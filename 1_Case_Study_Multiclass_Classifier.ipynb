{
  "nbformat": 4,
  "nbformat_minor": 0,
  "metadata": {
    "colab": {
      "private_outputs": true,
      "provenance": []
    },
    "kernelspec": {
      "name": "python3",
      "display_name": "Python 3"
    },
    "language_info": {
      "name": "python"
    }
  },
  "cells": [
    {
      "cell_type": "code",
      "execution_count": null,
      "metadata": {
        "id": "Lr_xgrfI8HV0"
      },
      "outputs": [],
      "source": [
        "import pandas as pd\n",
        "import numpy as np\n",
        "import seaborn as sb\n",
        "import matplotlib.pyplot as plt\n",
        "import tensorflow as tf\n"
      ]
    },
    {
      "cell_type": "code",
      "source": [
        "from google.colab import drive\n",
        "drive.mount('/content/drive')"
      ],
      "metadata": {
        "id": "tfQ2za4-dT1d"
      },
      "execution_count": null,
      "outputs": []
    },
    {
      "cell_type": "code",
      "source": [
        "data_train = pd.read_csv('/content/drive/MyDrive/Colab Notebooks/Deep Learning/train.csv')"
      ],
      "metadata": {
        "id": "LHWaL2oo8K_I"
      },
      "execution_count": null,
      "outputs": []
    },
    {
      "cell_type": "code",
      "source": [
        "data_train.head()"
      ],
      "metadata": {
        "id": "ESqI7PLe8cn1"
      },
      "execution_count": null,
      "outputs": []
    },
    {
      "cell_type": "code",
      "source": [
        "data_train=data_train.drop('Instance_ID', axis =1)"
      ],
      "metadata": {
        "id": "bWF4Xrx78jV4"
      },
      "execution_count": null,
      "outputs": []
    },
    {
      "cell_type": "code",
      "source": [
        "data_train.isnull().sum()"
      ],
      "metadata": {
        "id": "81-UcuiP9B0X"
      },
      "execution_count": null,
      "outputs": []
    },
    {
      "cell_type": "code",
      "source": [
        "data_train.dtypes"
      ],
      "metadata": {
        "id": "ZD3pB0Cq9LKD"
      },
      "execution_count": null,
      "outputs": []
    },
    {
      "cell_type": "code",
      "source": [
        "# How many category in target\n",
        "data_train['Action'].value_counts()"
      ],
      "metadata": {
        "id": "8Vr_75DE9PP6"
      },
      "execution_count": null,
      "outputs": []
    },
    {
      "cell_type": "code",
      "source": [
        "from sklearn.preprocessing import LabelEncoder\n",
        "\n",
        "le  = LabelEncoder()\n",
        "data_train['Action'] = le.fit_transform(data_train['Action'])"
      ],
      "metadata": {
        "id": "pAHGCE0u9ZzI"
      },
      "execution_count": null,
      "outputs": []
    },
    {
      "cell_type": "code",
      "source": [
        "data_train['Action'].value_counts()"
      ],
      "metadata": {
        "id": "qkq6Wvx294Uz"
      },
      "execution_count": null,
      "outputs": []
    },
    {
      "cell_type": "code",
      "source": [
        "X = data_train.drop('Action', axis =1)\n",
        "Y= data_train['Action']"
      ],
      "metadata": {
        "id": "lrq2X7WR99i3"
      },
      "execution_count": null,
      "outputs": []
    },
    {
      "cell_type": "code",
      "source": [
        "from sklearn.model_selection import train_test_split\n",
        "\n",
        "X_train,X_test,Y_train,Y_test = train_test_split(X,Y, test_size = 0.2, random_state = 1,stratify=Y)"
      ],
      "metadata": {
        "id": "AVvlZxtz-tE5"
      },
      "execution_count": null,
      "outputs": []
    },
    {
      "cell_type": "code",
      "source": [],
      "metadata": {
        "id": "OMmuLW6MA2zD"
      },
      "execution_count": null,
      "outputs": []
    },
    {
      "cell_type": "code",
      "source": [
        "# Apply standard scaller\n",
        "\n",
        "from sklearn.preprocessing import StandardScaler"
      ],
      "metadata": {
        "id": "wHocwvzW-gv_"
      },
      "execution_count": null,
      "outputs": []
    },
    {
      "cell_type": "code",
      "source": [
        "ss = StandardScaler()\n",
        "\n",
        "X_train = ss.fit_transform(X_train)\n",
        "X_test = ss.transform(X_test)"
      ],
      "metadata": {
        "id": "izcZGx18_Eew"
      },
      "execution_count": null,
      "outputs": []
    },
    {
      "cell_type": "code",
      "source": [
        "import tensorflow as tf\n",
        "\n",
        "model = tf.keras.Sequential([\n",
        "    # Hidden Layer   (units = no of input(47) + no of output(3))\n",
        "    tf.keras.layers.Dense(units= 49, activation = 'relu',input_dim = 46),\n",
        "    # output layers\n",
        "    tf.keras.layers.Dense(units =3, activation = 'softmax')\n",
        "])"
      ],
      "metadata": {
        "id": "w7ZXs0Ps_RMP"
      },
      "execution_count": null,
      "outputs": []
    },
    {
      "cell_type": "code",
      "source": [
        "# Here we have muliclass in target \n",
        "# and also it is unbalanced then we use SMOTE inbuiled class to balance data\n",
        "\n",
        "from imblearn.over_sampling import SMOTE\n",
        "\n",
        "X_train1,Y_train1 = SMOTE().fit_resample(X_train,Y_train)\n",
        "X_test1,Y_test1 = SMOTE().fit_resample(X_test,Y_test)"
      ],
      "metadata": {
        "id": "0P_qEiWEAW09"
      },
      "execution_count": null,
      "outputs": []
    },
    {
      "cell_type": "code",
      "source": [
        "Y_test1.value_counts(),"
      ],
      "metadata": {
        "id": "QnUc-aNOA2JE"
      },
      "execution_count": null,
      "outputs": []
    },
    {
      "cell_type": "code",
      "source": [
        "Y_train1.value_counts()"
      ],
      "metadata": {
        "id": "FkrGrzUQB7o5"
      },
      "execution_count": null,
      "outputs": []
    },
    {
      "cell_type": "code",
      "source": [
        "model.summary()"
      ],
      "metadata": {
        "id": "iWbaiQeGBbrR"
      },
      "execution_count": null,
      "outputs": []
    },
    {
      "cell_type": "code",
      "source": [
        "model.compile(optimizer = 'adam', loss = 'sparse_categorical_crossentropy', metrics = ['accuracy'])"
      ],
      "metadata": {
        "id": "WQGPJfgQBeEf"
      },
      "execution_count": null,
      "outputs": []
    },
    {
      "cell_type": "code",
      "source": [
        "# create a procedure for EARLY STOPING\n",
        "# calling inbuilt class:   EarlyStopping\n",
        "\n",
        "from tensorflow.keras.callbacks import EarlyStopping\n",
        "\n",
        "#create object  \n",
        "cb = EarlyStopping(monitor = 'val_loss',   # Mention parameter to monitor .. it may me loss or score\n",
        "                   min_delta = 0.0001,     # diff btw new and previous loss: bydefault we take 0.0001\n",
        "                   patience = 20,          \n",
        "                   verbose =1,\n",
        "                   mode = 'auto',\n",
        "                   baseline = None,\n",
        "                   restore_best_weights =False)"
      ],
      "metadata": {
        "id": "DtaP0jRGB2BI"
      },
      "execution_count": null,
      "outputs": []
    },
    {
      "cell_type": "code",
      "source": [
        "# train the model: use inbuilt method fit() of Sequential class\n",
        "\n",
        "train_model = model.fit(X_train1, Y_train1,epochs =5000,validation_data= (X_test1, Y_test1), callbacks = cb, batch_size = 64)\n",
        "# validation_split = 0.2 :: It is used when ever you do not have output data in test file. In this case\n",
        "# we are using 20% of train data to test the model"
      ],
      "metadata": {
        "id": "gqcv2Bx2CKb2"
      },
      "execution_count": null,
      "outputs": []
    },
    {
      "cell_type": "code",
      "source": [
        "# Here we see that out model is Underfit ....No we will increse the no of Hidden layer\n",
        "print(\"Traning Loss and Accuracy: \", model.evaluate(X_train1, Y_train1))\n",
        "print(\"Testing Loss and Accuracy: \", model.evaluate(X_test1, Y_test1))\n"
      ],
      "metadata": {
        "id": "R0gvgkbrDdXr"
      },
      "execution_count": null,
      "outputs": []
    },
    {
      "cell_type": "code",
      "source": [
        "# Visulisation\n",
        "plt.plot(train_model.history['loss'],label = 'Traning Loss')\n",
        "plt.plot(train_model.history['val_loss'],label = 'Testing Loss')\n",
        "plt.xlabel('Epochs')\n",
        "plt.ylabel('sparse_categorical_crossentropy')\n",
        "plt.legend()\n",
        "plt.show()"
      ],
      "metadata": {
        "id": "XZCv4k-sEk4O"
      },
      "execution_count": null,
      "outputs": []
    },
    {
      "cell_type": "code",
      "source": [
        "# Visulisation\n",
        "plt.plot(train_model.history['accuracy'],label = 'Traning Loss')\n",
        "plt.plot(train_model.history['val_accuracy'],label = 'Testing Loss')\n",
        "plt.xlabel('Epochs')\n",
        "plt.ylabel('Accuracy')\n",
        "plt.legend()\n",
        "plt.show()"
      ],
      "metadata": {
        "id": "Ejdz6K_aE-5I"
      },
      "execution_count": null,
      "outputs": []
    },
    {
      "cell_type": "code",
      "source": [
        "#test the model\n",
        "Y_predict = model.predict(X_test1).round(2)"
      ],
      "metadata": {
        "id": "gJ-Ah1qFFPKL"
      },
      "execution_count": null,
      "outputs": []
    },
    {
      "cell_type": "code",
      "source": [
        "Y_predict"
      ],
      "metadata": {
        "id": "JN7WE0pqFalk"
      },
      "execution_count": null,
      "outputs": []
    },
    {
      "cell_type": "code",
      "source": [
        "Y_predict = [np.argmax(i) for i in Y_predict]\n",
        "\n",
        "Y_predict"
      ],
      "metadata": {
        "id": "5IWSTnVqFyZD"
      },
      "execution_count": null,
      "outputs": []
    },
    {
      "cell_type": "code",
      "source": [
        "from sklearn.metrics import classification_report, confusion_matrix"
      ],
      "metadata": {
        "id": "xylORhffFyco"
      },
      "execution_count": null,
      "outputs": []
    },
    {
      "cell_type": "code",
      "source": [
        "print(classification_report(Y_test1, Y_predict))\n",
        "print(confusion_matrix(Y_test1, Y_predict))"
      ],
      "metadata": {
        "id": "PbZbf-etFykL"
      },
      "execution_count": null,
      "outputs": []
    },
    {
      "cell_type": "code",
      "source": [
        "import tensorflow as tf\n",
        "from tensorflow.keras import regularizers\n",
        "model1 = tf.keras.Sequential([\n",
        "    # Hidden Layer   (units = no of input(47) + no of output(3))\n",
        "    tf.keras.layers.Dense(units= 49, activation = 'relu',input_dim = 46,\n",
        "                          kernel_regularizer =regularizers.l2(0.01)),\n",
        "    # output layers\n",
        "    tf.keras.layers.Dense(units =3, activation = 'softmax',kernel_regularizer =regularizers.l2(0.01))\n",
        "])"
      ],
      "metadata": {
        "id": "gAsiGwnlHr79"
      },
      "execution_count": null,
      "outputs": []
    },
    {
      "cell_type": "code",
      "source": [
        "model1.compile(optimizer = 'adam', loss = 'sparse_categorical_crossentropy', metrics = ['accuracy'])"
      ],
      "metadata": {
        "id": "xwtyxbtsIE6A"
      },
      "execution_count": null,
      "outputs": []
    },
    {
      "cell_type": "code",
      "source": [
        "# train the model: use inbuilt method fit() of Sequential class\n",
        "\n",
        "train_model = model1.fit(X_train1, Y_train1,epochs =5000,validation_data= (X_test1, Y_test1), callbacks = cb, batch_size = 64)\n",
        "# validation_split = 0.2 :: It is used when ever you do not have output data in test file. In this case\n",
        "# we are using 20% of train data to test the model"
      ],
      "metadata": {
        "id": "ULPlHfsuIE_-"
      },
      "execution_count": null,
      "outputs": []
    },
    {
      "cell_type": "code",
      "source": [
        "# Here we see that out model is Underfit ....No we will increse the no of Hidden layer\n",
        "print(\"Traning Loss and Accuracy: \", model1.evaluate(X_train1, Y_train1))\n",
        "print(\"Testing Loss and Accuracy: \", model1.evaluate(X_test1, Y_test1))\n"
      ],
      "metadata": {
        "id": "1kYlc2ADIfgA"
      },
      "execution_count": null,
      "outputs": []
    },
    {
      "cell_type": "code",
      "source": [
        "# Visulisation\n",
        "plt.plot(train_model.history['loss'],label = 'Traning Loss')\n",
        "plt.plot(train_model.history['val_loss'],label = 'Testing Loss')\n",
        "plt.xlabel('Epochs')\n",
        "plt.ylabel('sparse_categorical_crossentropy')\n",
        "plt.legend()\n",
        "plt.show()"
      ],
      "metadata": {
        "id": "5GCjKA0JIqK0"
      },
      "execution_count": null,
      "outputs": []
    },
    {
      "cell_type": "code",
      "source": [
        "# Visulisation\n",
        "plt.plot(train_model.history['accuracy'],label = 'Traning Loss')\n",
        "plt.plot(train_model.history['val_accuracy'],label = 'Testing Loss')\n",
        "plt.xlabel('Epochs')\n",
        "plt.ylabel('Accuracy')\n",
        "plt.legend()\n",
        "plt.show()"
      ],
      "metadata": {
        "id": "nk6q1thMIqOa"
      },
      "execution_count": null,
      "outputs": []
    },
    {
      "cell_type": "code",
      "source": [
        "#test the model\n",
        "Y_predict = model1.predict(X_test1).round(2)"
      ],
      "metadata": {
        "id": "xnb-rLi0I1hx"
      },
      "execution_count": null,
      "outputs": []
    },
    {
      "cell_type": "code",
      "source": [
        "Y_predict = [np.argmax(i) for i in Y_predict]\n",
        "\n",
        "Y_predict"
      ],
      "metadata": {
        "id": "g-AX3WoMI1nQ"
      },
      "execution_count": null,
      "outputs": []
    },
    {
      "cell_type": "code",
      "source": [
        "print(classification_report(Y_test1, Y_predict))\n",
        "print(confusion_matrix(Y_test1, Y_predict))"
      ],
      "metadata": {
        "id": "cvkRPgq0I1qN"
      },
      "execution_count": null,
      "outputs": []
    },
    {
      "cell_type": "code",
      "source": [],
      "metadata": {
        "id": "H4lya3qBI1ta"
      },
      "execution_count": null,
      "outputs": []
    },
    {
      "cell_type": "code",
      "source": [
        "# To load test file \n",
        "data_test = pd.read_csv('/content/drive/MyDrive/Colab Notebooks/Deep Learning/test.csv')"
      ],
      "metadata": {
        "id": "LnaMbBejFHny"
      },
      "execution_count": null,
      "outputs": []
    },
    {
      "cell_type": "code",
      "source": [
        "data_test.head()"
      ],
      "metadata": {
        "id": "REMd7QzhGLcI"
      },
      "execution_count": null,
      "outputs": []
    },
    {
      "cell_type": "code",
      "source": [
        "data_test.drop('Instance_ID',axis =1,inplace = True)"
      ],
      "metadata": {
        "id": "WPNB-LcCGNTK"
      },
      "execution_count": null,
      "outputs": []
    },
    {
      "cell_type": "code",
      "source": [
        "\n",
        "# Make a copy\n",
        "X_test2 = data_test\n"
      ],
      "metadata": {
        "id": "XoWR-ZUoGma3"
      },
      "execution_count": null,
      "outputs": []
    },
    {
      "cell_type": "code",
      "source": [
        "# Apply scaling\n",
        "X_test2 = ss.transform(X_test2)"
      ],
      "metadata": {
        "id": "BF2m3xouHFRo"
      },
      "execution_count": null,
      "outputs": []
    },
    {
      "cell_type": "code",
      "source": [
        "# prediction\n",
        "\n",
        "Y_pred = model1.predict(X_test2).round(2)\n",
        "Y_pred"
      ],
      "metadata": {
        "id": "Mw4_WWa8HLSJ"
      },
      "execution_count": null,
      "outputs": []
    },
    {
      "cell_type": "code",
      "source": [
        "Y_pred = [np.argmax(i) for i in Y_pred]\n",
        "\n",
        "Y_pred"
      ],
      "metadata": {
        "id": "8rV6pWgbH0HM"
      },
      "execution_count": null,
      "outputs": []
    },
    {
      "cell_type": "code",
      "source": [],
      "metadata": {
        "id": "xkHLWCAUITAL"
      },
      "execution_count": null,
      "outputs": []
    },
    {
      "cell_type": "code",
      "source": [
        "Y_pred1 = []\n",
        "for i in Y_pred:\n",
        "  if i == 0:\n",
        "    Y_pred1.append('Action_1')\n",
        "  elif i ==1:\n",
        "    Y_pred1.append('Action_2')\n",
        "  else:\n",
        "    Y_pred1.append('Other_Action')"
      ],
      "metadata": {
        "id": "-auxxK7PIjDX"
      },
      "execution_count": null,
      "outputs": []
    },
    {
      "cell_type": "code",
      "source": [
        "Y_pred1"
      ],
      "metadata": {
        "id": "yzKSA8h-JfbE"
      },
      "execution_count": null,
      "outputs": []
    },
    {
      "cell_type": "code",
      "source": [
        "data_test['Action'] = Y_pred1"
      ],
      "metadata": {
        "id": "LMWrEVOFJgrk"
      },
      "execution_count": null,
      "outputs": []
    },
    {
      "cell_type": "code",
      "source": [
        "data_test"
      ],
      "metadata": {
        "id": "Vs8m9nVfLgck"
      },
      "execution_count": null,
      "outputs": []
    },
    {
      "cell_type": "code",
      "source": [
        "data_test.to_csv('testml', index =False)  # to save Data in csv"
      ],
      "metadata": {
        "id": "bLBI27WNLh0H"
      },
      "execution_count": null,
      "outputs": []
    }
  ]
}